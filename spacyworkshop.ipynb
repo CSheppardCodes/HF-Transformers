{
  "nbformat": 4,
  "nbformat_minor": 0,
  "metadata": {
    "colab": {
      "provenance": [],
      "authorship_tag": "ABX9TyNO0ZWzk3me21Mq3ByXVqer",
      "include_colab_link": true
    },
    "kernelspec": {
      "name": "python3",
      "display_name": "Python 3"
    },
    "language_info": {
      "name": "python"
    }
  },
  "cells": [
    {
      "cell_type": "markdown",
      "metadata": {
        "id": "view-in-github",
        "colab_type": "text"
      },
      "source": [
        "<a href=\"https://colab.research.google.com/github/CSheppardCodes/HFTransformersLangPortal/blob/main/spacyworkshop.ipynb\" target=\"_parent\"><img src=\"https://colab.research.google.com/assets/colab-badge.svg\" alt=\"Open In Colab\"/></a>"
      ]
    },
    {
      "cell_type": "markdown",
      "source": [
        "#DATA DOWNLOADS"
      ],
      "metadata": {
        "id": "IVCNecLeRIM6"
      }
    },
    {
      "cell_type": "code",
      "source": [
        "!python -m spacy download en_core_web_md"
      ],
      "metadata": {
        "colab": {
          "base_uri": "https://localhost:8080/"
        },
        "id": "hGavylayRIqT",
        "outputId": "eb012068-d97f-4f95-9e36-94ecaace0790"
      },
      "execution_count": null,
      "outputs": [
        {
          "output_type": "stream",
          "name": "stdout",
          "text": [
            "2022-09-30 21:21:30.933852: E tensorflow/stream_executor/cuda/cuda_driver.cc:271] failed call to cuInit: CUDA_ERROR_NO_DEVICE: no CUDA-capable device is detected\n",
            "Looking in indexes: https://pypi.org/simple, https://us-python.pkg.dev/colab-wheels/public/simple/\n",
            "Collecting en-core-web-md==3.4.0\n",
            "  Downloading https://github.com/explosion/spacy-models/releases/download/en_core_web_md-3.4.0/en_core_web_md-3.4.0-py3-none-any.whl (42.8 MB)\n",
            "\u001b[K     |████████████████████████████████| 42.8 MB 1.2 MB/s \n",
            "\u001b[?25hRequirement already satisfied: spacy<3.5.0,>=3.4.0 in /usr/local/lib/python3.7/dist-packages (from en-core-web-md==3.4.0) (3.4.1)\n",
            "Requirement already satisfied: thinc<8.2.0,>=8.1.0 in /usr/local/lib/python3.7/dist-packages (from spacy<3.5.0,>=3.4.0->en-core-web-md==3.4.0) (8.1.0)\n",
            "Requirement already satisfied: wasabi<1.1.0,>=0.9.1 in /usr/local/lib/python3.7/dist-packages (from spacy<3.5.0,>=3.4.0->en-core-web-md==3.4.0) (0.10.1)\n",
            "Requirement already satisfied: catalogue<2.1.0,>=2.0.6 in /usr/local/lib/python3.7/dist-packages (from spacy<3.5.0,>=3.4.0->en-core-web-md==3.4.0) (2.0.8)\n",
            "Requirement already satisfied: requests<3.0.0,>=2.13.0 in /usr/local/lib/python3.7/dist-packages (from spacy<3.5.0,>=3.4.0->en-core-web-md==3.4.0) (2.23.0)\n",
            "Requirement already satisfied: spacy-loggers<2.0.0,>=1.0.0 in /usr/local/lib/python3.7/dist-packages (from spacy<3.5.0,>=3.4.0->en-core-web-md==3.4.0) (1.0.3)\n",
            "Requirement already satisfied: typing-extensions<4.2.0,>=3.7.4 in /usr/local/lib/python3.7/dist-packages (from spacy<3.5.0,>=3.4.0->en-core-web-md==3.4.0) (4.1.1)\n",
            "Requirement already satisfied: numpy>=1.15.0 in /usr/local/lib/python3.7/dist-packages (from spacy<3.5.0,>=3.4.0->en-core-web-md==3.4.0) (1.21.6)\n",
            "Requirement already satisfied: srsly<3.0.0,>=2.4.3 in /usr/local/lib/python3.7/dist-packages (from spacy<3.5.0,>=3.4.0->en-core-web-md==3.4.0) (2.4.4)\n",
            "Requirement already satisfied: typer<0.5.0,>=0.3.0 in /usr/local/lib/python3.7/dist-packages (from spacy<3.5.0,>=3.4.0->en-core-web-md==3.4.0) (0.4.2)\n",
            "Requirement already satisfied: setuptools in /usr/local/lib/python3.7/dist-packages (from spacy<3.5.0,>=3.4.0->en-core-web-md==3.4.0) (57.4.0)\n",
            "Requirement already satisfied: spacy-legacy<3.1.0,>=3.0.9 in /usr/local/lib/python3.7/dist-packages (from spacy<3.5.0,>=3.4.0->en-core-web-md==3.4.0) (3.0.10)\n",
            "Requirement already satisfied: murmurhash<1.1.0,>=0.28.0 in /usr/local/lib/python3.7/dist-packages (from spacy<3.5.0,>=3.4.0->en-core-web-md==3.4.0) (1.0.8)\n",
            "Requirement already satisfied: langcodes<4.0.0,>=3.2.0 in /usr/local/lib/python3.7/dist-packages (from spacy<3.5.0,>=3.4.0->en-core-web-md==3.4.0) (3.3.0)\n",
            "Requirement already satisfied: pydantic!=1.8,!=1.8.1,<1.10.0,>=1.7.4 in /usr/local/lib/python3.7/dist-packages (from spacy<3.5.0,>=3.4.0->en-core-web-md==3.4.0) (1.9.2)\n",
            "Requirement already satisfied: tqdm<5.0.0,>=4.38.0 in /usr/local/lib/python3.7/dist-packages (from spacy<3.5.0,>=3.4.0->en-core-web-md==3.4.0) (4.64.1)\n",
            "Requirement already satisfied: preshed<3.1.0,>=3.0.2 in /usr/local/lib/python3.7/dist-packages (from spacy<3.5.0,>=3.4.0->en-core-web-md==3.4.0) (3.0.7)\n",
            "Requirement already satisfied: pathy>=0.3.5 in /usr/local/lib/python3.7/dist-packages (from spacy<3.5.0,>=3.4.0->en-core-web-md==3.4.0) (0.6.2)\n",
            "Requirement already satisfied: jinja2 in /usr/local/lib/python3.7/dist-packages (from spacy<3.5.0,>=3.4.0->en-core-web-md==3.4.0) (2.11.3)\n",
            "Requirement already satisfied: cymem<2.1.0,>=2.0.2 in /usr/local/lib/python3.7/dist-packages (from spacy<3.5.0,>=3.4.0->en-core-web-md==3.4.0) (2.0.6)\n",
            "Requirement already satisfied: packaging>=20.0 in /usr/local/lib/python3.7/dist-packages (from spacy<3.5.0,>=3.4.0->en-core-web-md==3.4.0) (21.3)\n",
            "Requirement already satisfied: zipp>=0.5 in /usr/local/lib/python3.7/dist-packages (from catalogue<2.1.0,>=2.0.6->spacy<3.5.0,>=3.4.0->en-core-web-md==3.4.0) (3.8.1)\n",
            "Requirement already satisfied: pyparsing!=3.0.5,>=2.0.2 in /usr/local/lib/python3.7/dist-packages (from packaging>=20.0->spacy<3.5.0,>=3.4.0->en-core-web-md==3.4.0) (3.0.9)\n",
            "Requirement already satisfied: smart-open<6.0.0,>=5.2.1 in /usr/local/lib/python3.7/dist-packages (from pathy>=0.3.5->spacy<3.5.0,>=3.4.0->en-core-web-md==3.4.0) (5.2.1)\n",
            "Requirement already satisfied: chardet<4,>=3.0.2 in /usr/local/lib/python3.7/dist-packages (from requests<3.0.0,>=2.13.0->spacy<3.5.0,>=3.4.0->en-core-web-md==3.4.0) (3.0.4)\n",
            "Requirement already satisfied: urllib3!=1.25.0,!=1.25.1,<1.26,>=1.21.1 in /usr/local/lib/python3.7/dist-packages (from requests<3.0.0,>=2.13.0->spacy<3.5.0,>=3.4.0->en-core-web-md==3.4.0) (1.24.3)\n",
            "Requirement already satisfied: idna<3,>=2.5 in /usr/local/lib/python3.7/dist-packages (from requests<3.0.0,>=2.13.0->spacy<3.5.0,>=3.4.0->en-core-web-md==3.4.0) (2.10)\n",
            "Requirement already satisfied: certifi>=2017.4.17 in /usr/local/lib/python3.7/dist-packages (from requests<3.0.0,>=2.13.0->spacy<3.5.0,>=3.4.0->en-core-web-md==3.4.0) (2022.6.15)\n",
            "Requirement already satisfied: blis<0.8.0,>=0.7.8 in /usr/local/lib/python3.7/dist-packages (from thinc<8.2.0,>=8.1.0->spacy<3.5.0,>=3.4.0->en-core-web-md==3.4.0) (0.7.8)\n",
            "Requirement already satisfied: click<9.0.0,>=7.1.1 in /usr/local/lib/python3.7/dist-packages (from typer<0.5.0,>=0.3.0->spacy<3.5.0,>=3.4.0->en-core-web-md==3.4.0) (7.1.2)\n",
            "Requirement already satisfied: MarkupSafe>=0.23 in /usr/local/lib/python3.7/dist-packages (from jinja2->spacy<3.5.0,>=3.4.0->en-core-web-md==3.4.0) (2.0.1)\n",
            "Installing collected packages: en-core-web-md\n",
            "Successfully installed en-core-web-md-3.4.0\n",
            "\u001b[38;5;2m✔ Download and installation successful\u001b[0m\n",
            "You can now load the package via spacy.load('en_core_web_md')\n"
          ]
        }
      ]
    },
    {
      "cell_type": "code",
      "source": [
        "import spacy\n",
        "\n",
        "from spacy import displacy\n"
      ],
      "metadata": {
        "id": "oKKn57LIRjOO"
      },
      "execution_count": null,
      "outputs": []
    },
    {
      "cell_type": "code",
      "source": [
        "#load model\n",
        "english_model = spacy.load('en_core_web_md')\n",
        "print(english_model)"
      ],
      "metadata": {
        "colab": {
          "base_uri": "https://localhost:8080/"
        },
        "id": "95jTxk3oSUkT",
        "outputId": "48fe9c05-5a1b-4e22-fa49-1b1597d31bd8"
      },
      "execution_count": null,
      "outputs": [
        {
          "output_type": "stream",
          "name": "stdout",
          "text": [
            "<spacy.lang.en.English object at 0x7fbe0ef22a50>\n"
          ]
        }
      ]
    },
    {
      "cell_type": "code",
      "source": [
        "#creat sample text\n",
        "sample_txt = 'dogs are domesticated mammals, not natural wild animals. they were originally bred from wolves'"
      ],
      "metadata": {
        "id": "W3kNVCF3TB18"
      },
      "execution_count": null,
      "outputs": []
    },
    {
      "cell_type": "code",
      "source": [
        "print(sample_txt)"
      ],
      "metadata": {
        "colab": {
          "base_uri": "https://localhost:8080/"
        },
        "id": "g1At-N7UTZrs",
        "outputId": "2b4f33bb-50e9-4081-9d66-4b1b9b273d8b"
      },
      "execution_count": null,
      "outputs": [
        {
          "output_type": "stream",
          "name": "stdout",
          "text": [
            "dogs are domesticated mammals, not natural wild animals. they were originally bred from wolves\n"
          ]
        }
      ]
    },
    {
      "cell_type": "code",
      "source": [
        "#call model we loaded on sample text, output practice doc\n",
        "practice_doc = english_model(sample_txt)"
      ],
      "metadata": {
        "id": "K6-pTnSaTumX"
      },
      "execution_count": null,
      "outputs": []
    },
    {
      "cell_type": "code",
      "source": [
        "type(practice_doc)"
      ],
      "metadata": {
        "colab": {
          "base_uri": "https://localhost:8080/"
        },
        "id": "kOMYkeTzT91Y",
        "outputId": "2c1754f4-4221-4233-dd5e-82ccf410fd55"
      },
      "execution_count": null,
      "outputs": [
        {
          "output_type": "execute_result",
          "data": {
            "text/plain": [
              "spacy.tokens.doc.Doc"
            ]
          },
          "metadata": {},
          "execution_count": 15
        }
      ]
    },
    {
      "cell_type": "code",
      "source": [
        "for token in practice_doc:\n",
        "    print(token.text)"
      ],
      "metadata": {
        "colab": {
          "base_uri": "https://localhost:8080/"
        },
        "id": "uV4Gd2mmUBF-",
        "outputId": "b42ad67b-5967-4aaa-ab06-5def828e142a"
      },
      "execution_count": null,
      "outputs": [
        {
          "output_type": "stream",
          "name": "stdout",
          "text": [
            "dogs\n",
            "are\n",
            "domesticated\n",
            "mammals\n",
            ",\n",
            "not\n",
            "natural\n",
            "wild\n",
            "animals\n",
            ".\n",
            "they\n",
            "were\n",
            "originally\n",
            "bred\n",
            "from\n",
            "wolves\n"
          ]
        }
      ]
    },
    {
      "cell_type": "code",
      "source": [
        "#lemmas loop through doc objectl, taking lemma, using the toke.lemma_ attribute of the objec\n",
        "for token in practice_doc:\n",
        "  print(token.lemma_)"
      ],
      "metadata": {
        "colab": {
          "base_uri": "https://localhost:8080/"
        },
        "id": "YKuukd-BUZDx",
        "outputId": "7a69d783-e041-4b0d-88e5-50c376da2e0c"
      },
      "execution_count": null,
      "outputs": [
        {
          "output_type": "stream",
          "name": "stdout",
          "text": [
            "dog\n",
            "be\n",
            "domesticate\n",
            "mammal\n",
            ",\n",
            "not\n",
            "natural\n",
            "wild\n",
            "animal\n",
            ".\n",
            "they\n",
            "be\n",
            "originally\n",
            "breed\n",
            "from\n",
            "wolf\n"
          ]
        }
      ]
    },
    {
      "cell_type": "code",
      "source": [
        "for token in practice_doc:\n",
        "  print(token.text, '    ', token.pos_)"
      ],
      "metadata": {
        "colab": {
          "base_uri": "https://localhost:8080/"
        },
        "id": "SWcJR_5oU156",
        "outputId": "ab780acb-023e-4537-eeff-879e1d2360f4"
      },
      "execution_count": null,
      "outputs": [
        {
          "output_type": "stream",
          "name": "stdout",
          "text": [
            "dogs      NOUN\n",
            "are      AUX\n",
            "domesticated      VERB\n",
            "mammals      NOUN\n",
            ",      PUNCT\n",
            "not      PART\n",
            "natural      ADJ\n",
            "wild      ADJ\n",
            "animals      NOUN\n",
            ".      PUNCT\n",
            "they      PRON\n",
            "were      AUX\n",
            "originally      ADV\n",
            "bred      VERB\n",
            "from      ADP\n",
            "wolves      NOUN\n"
          ]
        }
      ]
    },
    {
      "cell_type": "code",
      "source": [
        "#dependency parsing\n",
        "parse_text = 'Jim is going to school at the University of Texas at Dallas'\n",
        "parse_doc = english_model(parse_text)\n",
        "\n",
        "displacy.render(parse_doc, style = 'dep', jupyter = True)"
      ],
      "metadata": {
        "colab": {
          "base_uri": "https://localhost:8080/",
          "height": 353
        },
        "id": "AAXyDY94Vh_d",
        "outputId": "2afd0b63-690b-4778-bc37-64d2cb8609fa"
      },
      "execution_count": null,
      "outputs": [
        {
          "output_type": "display_data",
          "data": {
            "text/plain": [
              "<IPython.core.display.HTML object>"
            ],
            "text/html": [
              "<span class=\"tex2jax_ignore\"><svg xmlns=\"http://www.w3.org/2000/svg\" xmlns:xlink=\"http://www.w3.org/1999/xlink\" xml:lang=\"en\" id=\"d0acf5080d33489e8fb7025c94e63cc3-0\" class=\"displacy\" width=\"2150\" height=\"312.0\" direction=\"ltr\" style=\"max-width: none; height: 312.0px; color: #000000; background: #ffffff; font-family: Arial; direction: ltr\">\n",
              "<text class=\"displacy-token\" fill=\"currentColor\" text-anchor=\"middle\" y=\"222.0\">\n",
              "    <tspan class=\"displacy-word\" fill=\"currentColor\" x=\"50\">Jim</tspan>\n",
              "    <tspan class=\"displacy-tag\" dy=\"2em\" fill=\"currentColor\" x=\"50\">PROPN</tspan>\n",
              "</text>\n",
              "\n",
              "<text class=\"displacy-token\" fill=\"currentColor\" text-anchor=\"middle\" y=\"222.0\">\n",
              "    <tspan class=\"displacy-word\" fill=\"currentColor\" x=\"225\">is</tspan>\n",
              "    <tspan class=\"displacy-tag\" dy=\"2em\" fill=\"currentColor\" x=\"225\">AUX</tspan>\n",
              "</text>\n",
              "\n",
              "<text class=\"displacy-token\" fill=\"currentColor\" text-anchor=\"middle\" y=\"222.0\">\n",
              "    <tspan class=\"displacy-word\" fill=\"currentColor\" x=\"400\">going</tspan>\n",
              "    <tspan class=\"displacy-tag\" dy=\"2em\" fill=\"currentColor\" x=\"400\">VERB</tspan>\n",
              "</text>\n",
              "\n",
              "<text class=\"displacy-token\" fill=\"currentColor\" text-anchor=\"middle\" y=\"222.0\">\n",
              "    <tspan class=\"displacy-word\" fill=\"currentColor\" x=\"575\">to</tspan>\n",
              "    <tspan class=\"displacy-tag\" dy=\"2em\" fill=\"currentColor\" x=\"575\">ADP</tspan>\n",
              "</text>\n",
              "\n",
              "<text class=\"displacy-token\" fill=\"currentColor\" text-anchor=\"middle\" y=\"222.0\">\n",
              "    <tspan class=\"displacy-word\" fill=\"currentColor\" x=\"750\">school</tspan>\n",
              "    <tspan class=\"displacy-tag\" dy=\"2em\" fill=\"currentColor\" x=\"750\">NOUN</tspan>\n",
              "</text>\n",
              "\n",
              "<text class=\"displacy-token\" fill=\"currentColor\" text-anchor=\"middle\" y=\"222.0\">\n",
              "    <tspan class=\"displacy-word\" fill=\"currentColor\" x=\"925\">at</tspan>\n",
              "    <tspan class=\"displacy-tag\" dy=\"2em\" fill=\"currentColor\" x=\"925\">ADP</tspan>\n",
              "</text>\n",
              "\n",
              "<text class=\"displacy-token\" fill=\"currentColor\" text-anchor=\"middle\" y=\"222.0\">\n",
              "    <tspan class=\"displacy-word\" fill=\"currentColor\" x=\"1100\">the</tspan>\n",
              "    <tspan class=\"displacy-tag\" dy=\"2em\" fill=\"currentColor\" x=\"1100\">DET</tspan>\n",
              "</text>\n",
              "\n",
              "<text class=\"displacy-token\" fill=\"currentColor\" text-anchor=\"middle\" y=\"222.0\">\n",
              "    <tspan class=\"displacy-word\" fill=\"currentColor\" x=\"1275\">University</tspan>\n",
              "    <tspan class=\"displacy-tag\" dy=\"2em\" fill=\"currentColor\" x=\"1275\">PROPN</tspan>\n",
              "</text>\n",
              "\n",
              "<text class=\"displacy-token\" fill=\"currentColor\" text-anchor=\"middle\" y=\"222.0\">\n",
              "    <tspan class=\"displacy-word\" fill=\"currentColor\" x=\"1450\">of</tspan>\n",
              "    <tspan class=\"displacy-tag\" dy=\"2em\" fill=\"currentColor\" x=\"1450\">ADP</tspan>\n",
              "</text>\n",
              "\n",
              "<text class=\"displacy-token\" fill=\"currentColor\" text-anchor=\"middle\" y=\"222.0\">\n",
              "    <tspan class=\"displacy-word\" fill=\"currentColor\" x=\"1625\">Texas</tspan>\n",
              "    <tspan class=\"displacy-tag\" dy=\"2em\" fill=\"currentColor\" x=\"1625\">PROPN</tspan>\n",
              "</text>\n",
              "\n",
              "<text class=\"displacy-token\" fill=\"currentColor\" text-anchor=\"middle\" y=\"222.0\">\n",
              "    <tspan class=\"displacy-word\" fill=\"currentColor\" x=\"1800\">at</tspan>\n",
              "    <tspan class=\"displacy-tag\" dy=\"2em\" fill=\"currentColor\" x=\"1800\">ADP</tspan>\n",
              "</text>\n",
              "\n",
              "<text class=\"displacy-token\" fill=\"currentColor\" text-anchor=\"middle\" y=\"222.0\">\n",
              "    <tspan class=\"displacy-word\" fill=\"currentColor\" x=\"1975\">Dallas</tspan>\n",
              "    <tspan class=\"displacy-tag\" dy=\"2em\" fill=\"currentColor\" x=\"1975\">PROPN</tspan>\n",
              "</text>\n",
              "\n",
              "<g class=\"displacy-arrow\">\n",
              "    <path class=\"displacy-arc\" id=\"arrow-d0acf5080d33489e8fb7025c94e63cc3-0-0\" stroke-width=\"2px\" d=\"M70,177.0 C70,2.0 400.0,2.0 400.0,177.0\" fill=\"none\" stroke=\"currentColor\"/>\n",
              "    <text dy=\"1.25em\" style=\"font-size: 0.8em; letter-spacing: 1px\">\n",
              "        <textPath xlink:href=\"#arrow-d0acf5080d33489e8fb7025c94e63cc3-0-0\" class=\"displacy-label\" startOffset=\"50%\" side=\"left\" fill=\"currentColor\" text-anchor=\"middle\">nsubj</textPath>\n",
              "    </text>\n",
              "    <path class=\"displacy-arrowhead\" d=\"M70,179.0 L62,167.0 78,167.0\" fill=\"currentColor\"/>\n",
              "</g>\n",
              "\n",
              "<g class=\"displacy-arrow\">\n",
              "    <path class=\"displacy-arc\" id=\"arrow-d0acf5080d33489e8fb7025c94e63cc3-0-1\" stroke-width=\"2px\" d=\"M245,177.0 C245,89.5 395.0,89.5 395.0,177.0\" fill=\"none\" stroke=\"currentColor\"/>\n",
              "    <text dy=\"1.25em\" style=\"font-size: 0.8em; letter-spacing: 1px\">\n",
              "        <textPath xlink:href=\"#arrow-d0acf5080d33489e8fb7025c94e63cc3-0-1\" class=\"displacy-label\" startOffset=\"50%\" side=\"left\" fill=\"currentColor\" text-anchor=\"middle\">aux</textPath>\n",
              "    </text>\n",
              "    <path class=\"displacy-arrowhead\" d=\"M245,179.0 L237,167.0 253,167.0\" fill=\"currentColor\"/>\n",
              "</g>\n",
              "\n",
              "<g class=\"displacy-arrow\">\n",
              "    <path class=\"displacy-arc\" id=\"arrow-d0acf5080d33489e8fb7025c94e63cc3-0-2\" stroke-width=\"2px\" d=\"M420,177.0 C420,89.5 570.0,89.5 570.0,177.0\" fill=\"none\" stroke=\"currentColor\"/>\n",
              "    <text dy=\"1.25em\" style=\"font-size: 0.8em; letter-spacing: 1px\">\n",
              "        <textPath xlink:href=\"#arrow-d0acf5080d33489e8fb7025c94e63cc3-0-2\" class=\"displacy-label\" startOffset=\"50%\" side=\"left\" fill=\"currentColor\" text-anchor=\"middle\">prep</textPath>\n",
              "    </text>\n",
              "    <path class=\"displacy-arrowhead\" d=\"M570.0,179.0 L578.0,167.0 562.0,167.0\" fill=\"currentColor\"/>\n",
              "</g>\n",
              "\n",
              "<g class=\"displacy-arrow\">\n",
              "    <path class=\"displacy-arc\" id=\"arrow-d0acf5080d33489e8fb7025c94e63cc3-0-3\" stroke-width=\"2px\" d=\"M595,177.0 C595,89.5 745.0,89.5 745.0,177.0\" fill=\"none\" stroke=\"currentColor\"/>\n",
              "    <text dy=\"1.25em\" style=\"font-size: 0.8em; letter-spacing: 1px\">\n",
              "        <textPath xlink:href=\"#arrow-d0acf5080d33489e8fb7025c94e63cc3-0-3\" class=\"displacy-label\" startOffset=\"50%\" side=\"left\" fill=\"currentColor\" text-anchor=\"middle\">pobj</textPath>\n",
              "    </text>\n",
              "    <path class=\"displacy-arrowhead\" d=\"M745.0,179.0 L753.0,167.0 737.0,167.0\" fill=\"currentColor\"/>\n",
              "</g>\n",
              "\n",
              "<g class=\"displacy-arrow\">\n",
              "    <path class=\"displacy-arc\" id=\"arrow-d0acf5080d33489e8fb7025c94e63cc3-0-4\" stroke-width=\"2px\" d=\"M770,177.0 C770,89.5 920.0,89.5 920.0,177.0\" fill=\"none\" stroke=\"currentColor\"/>\n",
              "    <text dy=\"1.25em\" style=\"font-size: 0.8em; letter-spacing: 1px\">\n",
              "        <textPath xlink:href=\"#arrow-d0acf5080d33489e8fb7025c94e63cc3-0-4\" class=\"displacy-label\" startOffset=\"50%\" side=\"left\" fill=\"currentColor\" text-anchor=\"middle\">prep</textPath>\n",
              "    </text>\n",
              "    <path class=\"displacy-arrowhead\" d=\"M920.0,179.0 L928.0,167.0 912.0,167.0\" fill=\"currentColor\"/>\n",
              "</g>\n",
              "\n",
              "<g class=\"displacy-arrow\">\n",
              "    <path class=\"displacy-arc\" id=\"arrow-d0acf5080d33489e8fb7025c94e63cc3-0-5\" stroke-width=\"2px\" d=\"M1120,177.0 C1120,89.5 1270.0,89.5 1270.0,177.0\" fill=\"none\" stroke=\"currentColor\"/>\n",
              "    <text dy=\"1.25em\" style=\"font-size: 0.8em; letter-spacing: 1px\">\n",
              "        <textPath xlink:href=\"#arrow-d0acf5080d33489e8fb7025c94e63cc3-0-5\" class=\"displacy-label\" startOffset=\"50%\" side=\"left\" fill=\"currentColor\" text-anchor=\"middle\">det</textPath>\n",
              "    </text>\n",
              "    <path class=\"displacy-arrowhead\" d=\"M1120,179.0 L1112,167.0 1128,167.0\" fill=\"currentColor\"/>\n",
              "</g>\n",
              "\n",
              "<g class=\"displacy-arrow\">\n",
              "    <path class=\"displacy-arc\" id=\"arrow-d0acf5080d33489e8fb7025c94e63cc3-0-6\" stroke-width=\"2px\" d=\"M945,177.0 C945,2.0 1275.0,2.0 1275.0,177.0\" fill=\"none\" stroke=\"currentColor\"/>\n",
              "    <text dy=\"1.25em\" style=\"font-size: 0.8em; letter-spacing: 1px\">\n",
              "        <textPath xlink:href=\"#arrow-d0acf5080d33489e8fb7025c94e63cc3-0-6\" class=\"displacy-label\" startOffset=\"50%\" side=\"left\" fill=\"currentColor\" text-anchor=\"middle\">pobj</textPath>\n",
              "    </text>\n",
              "    <path class=\"displacy-arrowhead\" d=\"M1275.0,179.0 L1283.0,167.0 1267.0,167.0\" fill=\"currentColor\"/>\n",
              "</g>\n",
              "\n",
              "<g class=\"displacy-arrow\">\n",
              "    <path class=\"displacy-arc\" id=\"arrow-d0acf5080d33489e8fb7025c94e63cc3-0-7\" stroke-width=\"2px\" d=\"M1295,177.0 C1295,89.5 1445.0,89.5 1445.0,177.0\" fill=\"none\" stroke=\"currentColor\"/>\n",
              "    <text dy=\"1.25em\" style=\"font-size: 0.8em; letter-spacing: 1px\">\n",
              "        <textPath xlink:href=\"#arrow-d0acf5080d33489e8fb7025c94e63cc3-0-7\" class=\"displacy-label\" startOffset=\"50%\" side=\"left\" fill=\"currentColor\" text-anchor=\"middle\">prep</textPath>\n",
              "    </text>\n",
              "    <path class=\"displacy-arrowhead\" d=\"M1445.0,179.0 L1453.0,167.0 1437.0,167.0\" fill=\"currentColor\"/>\n",
              "</g>\n",
              "\n",
              "<g class=\"displacy-arrow\">\n",
              "    <path class=\"displacy-arc\" id=\"arrow-d0acf5080d33489e8fb7025c94e63cc3-0-8\" stroke-width=\"2px\" d=\"M1470,177.0 C1470,89.5 1620.0,89.5 1620.0,177.0\" fill=\"none\" stroke=\"currentColor\"/>\n",
              "    <text dy=\"1.25em\" style=\"font-size: 0.8em; letter-spacing: 1px\">\n",
              "        <textPath xlink:href=\"#arrow-d0acf5080d33489e8fb7025c94e63cc3-0-8\" class=\"displacy-label\" startOffset=\"50%\" side=\"left\" fill=\"currentColor\" text-anchor=\"middle\">pobj</textPath>\n",
              "    </text>\n",
              "    <path class=\"displacy-arrowhead\" d=\"M1620.0,179.0 L1628.0,167.0 1612.0,167.0\" fill=\"currentColor\"/>\n",
              "</g>\n",
              "\n",
              "<g class=\"displacy-arrow\">\n",
              "    <path class=\"displacy-arc\" id=\"arrow-d0acf5080d33489e8fb7025c94e63cc3-0-9\" stroke-width=\"2px\" d=\"M1295,177.0 C1295,2.0 1800.0,2.0 1800.0,177.0\" fill=\"none\" stroke=\"currentColor\"/>\n",
              "    <text dy=\"1.25em\" style=\"font-size: 0.8em; letter-spacing: 1px\">\n",
              "        <textPath xlink:href=\"#arrow-d0acf5080d33489e8fb7025c94e63cc3-0-9\" class=\"displacy-label\" startOffset=\"50%\" side=\"left\" fill=\"currentColor\" text-anchor=\"middle\">prep</textPath>\n",
              "    </text>\n",
              "    <path class=\"displacy-arrowhead\" d=\"M1800.0,179.0 L1808.0,167.0 1792.0,167.0\" fill=\"currentColor\"/>\n",
              "</g>\n",
              "\n",
              "<g class=\"displacy-arrow\">\n",
              "    <path class=\"displacy-arc\" id=\"arrow-d0acf5080d33489e8fb7025c94e63cc3-0-10\" stroke-width=\"2px\" d=\"M1820,177.0 C1820,89.5 1970.0,89.5 1970.0,177.0\" fill=\"none\" stroke=\"currentColor\"/>\n",
              "    <text dy=\"1.25em\" style=\"font-size: 0.8em; letter-spacing: 1px\">\n",
              "        <textPath xlink:href=\"#arrow-d0acf5080d33489e8fb7025c94e63cc3-0-10\" class=\"displacy-label\" startOffset=\"50%\" side=\"left\" fill=\"currentColor\" text-anchor=\"middle\">pobj</textPath>\n",
              "    </text>\n",
              "    <path class=\"displacy-arrowhead\" d=\"M1970.0,179.0 L1978.0,167.0 1962.0,167.0\" fill=\"currentColor\"/>\n",
              "</g>\n",
              "</svg></span>"
            ]
          },
          "metadata": {}
        }
      ]
    },
    {
      "cell_type": "markdown",
      "source": [
        "#named-ENTITY RECOGNITION\n"
      ],
      "metadata": {
        "id": "AQWyNVXCW9-n"
      }
    },
    {
      "cell_type": "code",
      "source": [
        "#create a new sample\n",
        "ner_text = 'jim is going to schoool at the university of Texas at Dallas. His sister Jane is an engineer at SpaceX.'\n",
        "\n",
        "#call the small english model to label the ner text\n",
        "ner_doc = english_model(ner_text)\n",
        "\n",
        "print(ner_doc.ents)"
      ],
      "metadata": {
        "colab": {
          "base_uri": "https://localhost:8080/"
        },
        "id": "93mPetVAWdLe",
        "outputId": "b7920e59-524d-4004-b6aa-bfe3968330ba"
      },
      "execution_count": null,
      "outputs": [
        {
          "output_type": "stream",
          "name": "stdout",
          "text": [
            "(jim, the university of Texas, Dallas, Jane)\n"
          ]
        }
      ]
    },
    {
      "cell_type": "code",
      "source": [
        "for entity in ner_doc.ents:\n",
        "  print(entity.text, '    ', entity.label)"
      ],
      "metadata": {
        "colab": {
          "base_uri": "https://localhost:8080/"
        },
        "id": "6yOnAzoNXhtP",
        "outputId": "46778304-d124-4fdb-9057-30c0e5488e8c"
      },
      "execution_count": null,
      "outputs": [
        {
          "output_type": "stream",
          "name": "stdout",
          "text": [
            "jim      380\n",
            "the university of Texas      383\n",
            "Dallas      384\n",
            "Jane      380\n"
          ]
        }
      ]
    },
    {
      "cell_type": "markdown",
      "source": [
        "#text pre-processing"
      ],
      "metadata": {
        "id": "NVK1AKIGZVr8"
      }
    },
    {
      "cell_type": "code",
      "source": [
        "for token in practice_doc:\n",
        "  print(token.text, '\\t Stop:', token.is_stop, '\\t Punct:', token.is_punct)\n"
      ],
      "metadata": {
        "colab": {
          "base_uri": "https://localhost:8080/"
        },
        "id": "Q3vH1HwXYEyQ",
        "outputId": "e1e8531c-a49f-4335-f913-a15d7f26e333"
      },
      "execution_count": null,
      "outputs": [
        {
          "output_type": "stream",
          "name": "stdout",
          "text": [
            "dogs \t Stop: False \t Punct: False\n",
            "are \t Stop: True \t Punct: False\n",
            "domesticated \t Stop: False \t Punct: False\n",
            "mammals \t Stop: False \t Punct: False\n",
            ", \t Stop: False \t Punct: True\n",
            "not \t Stop: True \t Punct: False\n",
            "natural \t Stop: False \t Punct: False\n",
            "wild \t Stop: False \t Punct: False\n",
            "animals \t Stop: False \t Punct: False\n",
            ". \t Stop: False \t Punct: True\n",
            "they \t Stop: True \t Punct: False\n",
            "were \t Stop: True \t Punct: False\n",
            "originally \t Stop: False \t Punct: False\n",
            "bred \t Stop: False \t Punct: False\n",
            "from \t Stop: True \t Punct: False\n",
            "wolves \t Stop: False \t Punct: False\n"
          ]
        }
      ]
    },
    {
      "cell_type": "code",
      "source": [
        "for token in practice_doc:\n",
        "  if not token.is_stop and not token.is_punct:\n",
        "    print(token.text)"
      ],
      "metadata": {
        "colab": {
          "base_uri": "https://localhost:8080/"
        },
        "id": "iOui8rY5ZpoJ",
        "outputId": "43b86304-a263-4e89-bc37-29afcd2c227d"
      },
      "execution_count": null,
      "outputs": [
        {
          "output_type": "stream",
          "name": "stdout",
          "text": [
            "dogs\n",
            "domesticated\n",
            "mammals\n",
            "natural\n",
            "wild\n",
            "animals\n",
            "originally\n",
            "bred\n",
            "wolves\n"
          ]
        }
      ]
    },
    {
      "cell_type": "markdown",
      "source": [
        "#word vector"
      ],
      "metadata": {
        "id": "vNeoLIkpaepi"
      }
    },
    {
      "cell_type": "code",
      "source": [
        "#load large spacy model\n",
        "\n",
        "eng_mod = spacy.load('en_core_web_md')\n",
        "\n",
        "tokens = eng_mod('book Alaska brown tehc')"
      ],
      "metadata": {
        "id": "Sm9meOzzaL2k"
      },
      "execution_count": null,
      "outputs": []
    },
    {
      "cell_type": "code",
      "source": [
        "for token in tokens:\n",
        "  print(token.text, token.has_vector, token.vector_norm, token.is_oov)"
      ],
      "metadata": {
        "colab": {
          "base_uri": "https://localhost:8080/"
        },
        "id": "_rlB_xl6bC96",
        "outputId": "feb41185-fb4c-4bc3-9753-1081cf9dc583"
      },
      "execution_count": null,
      "outputs": [
        {
          "output_type": "stream",
          "name": "stdout",
          "text": [
            "book True 66.92257 False\n",
            "Alaska True 40.961754 False\n",
            "brown True 47.859325 False\n",
            "tehc False 0.0 True\n"
          ]
        }
      ]
    },
    {
      "cell_type": "code",
      "source": [
        "print(tokens[0].vector)"
      ],
      "metadata": {
        "colab": {
          "base_uri": "https://localhost:8080/"
        },
        "id": "ryJQ0WIwbiXM",
        "outputId": "3c80b15f-4537-4f95-bb86-4cc348ff3da9"
      },
      "execution_count": null,
      "outputs": [
        {
          "output_type": "stream",
          "name": "stdout",
          "text": [
            "[-6.8309e-01 -3.0543e+00  1.8606e+00 -5.2778e+00 -1.4218e+00 -5.0699e+00\n",
            "  4.8469e+00  1.0062e+00 -3.9048e+00  5.6402e-01  3.9209e+00  1.7589e+00\n",
            " -7.5871e+00 -4.1922e-01  1.3813e+00 -1.2767e+00  6.8939e+00  2.8205e+00\n",
            "  3.9300e+00  5.1858e+00 -3.6853e+00  2.0035e+00 -2.0033e+00 -5.8109e-01\n",
            " -6.3321e+00 -4.3245e+00 -5.3810e+00 -1.7220e+00 -3.3966e+00  6.4035e+00\n",
            " -3.0306e+00  4.5631e+00  2.4415e+00  3.7705e+00 -4.3071e-01 -6.6056e-01\n",
            "  3.2355e+00 -6.6079e-01 -1.6213e+00 -3.2852e+00 -2.5519e+00  3.4178e+00\n",
            " -4.7897e+00  5.0813e+00  1.0220e+01  2.4846e+00  4.2788e+00 -1.8019e-01\n",
            "  2.0757e+00 -3.7951e+00 -2.2355e+00 -2.2554e+00  2.5106e+00 -6.7274e-01\n",
            " -7.6655e+00  2.5704e+00 -6.8008e+00  3.4093e-02  9.1547e+00  1.6135e-01\n",
            "  3.9302e+00  5.2180e+00 -2.3684e+00  3.3334e+00 -5.0434e-01  1.4691e+00\n",
            " -3.8114e+00 -8.0664e+00 -1.9028e+00  1.8617e-01 -1.3516e+00 -1.3692e+00\n",
            " -2.7929e+00 -1.9924e+00  7.3892e-01  4.9117e+00  3.4227e-01  2.3745e+00\n",
            "  4.6445e-01  6.0298e+00 -3.9302e-01  3.7714e+00  3.1798e+00  2.4312e+00\n",
            "  8.5742e-01  3.2186e+00  2.4646e+00 -5.0598e+00 -1.8678e+00 -3.5550e-01\n",
            " -2.6216e+00  3.8022e+00  4.1963e+00 -2.6638e+00 -1.2486e-01 -5.5961e+00\n",
            " -4.1191e+00  4.1620e+00 -2.5289e-01  1.7460e+00 -1.4937e+00  1.6185e+00\n",
            "  2.2036e+00  3.2050e+00  3.4245e+00 -7.6374e+00 -2.1352e+00 -3.9658e+00\n",
            "  3.1005e+00 -3.8535e+00  5.7755e+00  1.7174e+00  4.5071e-01  6.0424e+00\n",
            "  1.8611e+00 -2.8141e-01 -3.4730e+00  6.3003e-01 -4.5836e+00 -9.5168e-01\n",
            " -6.9496e-01 -5.0659e+00  7.3618e+00  4.0789e+00  8.8548e+00  2.6358e+00\n",
            " -2.5934e+00 -1.5459e+00 -2.8595e-01 -2.1988e+00 -5.0546e+00  4.8807e+00\n",
            " -3.5259e+00 -6.3992e+00 -5.5411e+00  4.5247e+00 -2.1072e+00 -2.2111e-01\n",
            "  3.4897e+00 -3.4611e+00 -9.5317e-01 -6.8723e-01 -7.1437e-03 -8.9225e-01\n",
            "  5.6726e+00  1.3553e+00 -1.1966e+00 -6.0011e-02 -7.0012e+00  8.4866e+00\n",
            "  1.0430e+00  5.5493e+00  3.1706e+00 -1.6943e+00 -3.1252e+00  3.5059e-01\n",
            "  4.3552e+00  6.2683e+00 -1.6087e+00 -1.3311e+00  2.0369e+00 -8.7731e-01\n",
            "  1.2254e+00  7.2290e-02 -4.6671e+00 -2.2213e+00 -3.5451e+00 -4.4050e+00\n",
            " -2.4402e-01 -3.9336e+00  5.8071e+00  3.1015e+00 -2.9000e+00  4.5574e+00\n",
            "  2.7205e+00  2.2827e+00  2.9492e+00  8.1898e+00  4.2747e-01 -6.1161e+00\n",
            "  6.2828e+00  3.0280e+00  4.3989e+00 -3.8333e+00  8.2293e+00  4.7794e-01\n",
            "  2.7170e-01  3.0993e-01  5.4747e+00 -4.9926e-01 -4.2465e+00 -6.9501e-01\n",
            " -5.5377e+00  4.2489e+00  6.3441e+00 -1.5990e+00 -5.4831e+00  4.3513e+00\n",
            "  2.7569e+00  1.4362e+01 -2.0194e+00  6.5998e-01 -6.0017e+00  4.4275e-01\n",
            "  4.8154e+00 -4.2486e+00 -1.4683e+00  6.3459e-01 -4.9548e-01 -6.4542e+00\n",
            "  5.7576e+00  2.1954e-01  6.6449e+00  2.0058e+00  3.2720e-01  2.1421e+00\n",
            " -3.9404e+00 -1.7273e-01 -1.9210e+00 -8.6389e-01  7.0696e-01 -4.2586e-01\n",
            " -8.9717e-01  5.6519e+00 -4.2612e+00  5.9057e+00  4.3131e+00  4.9639e+00\n",
            " -4.2320e-01 -3.7484e-01  4.5130e+00 -3.0745e+00  4.4899e+00 -2.3566e+00\n",
            " -1.2600e+00  6.4880e+00  2.3652e+00  7.2208e+00 -3.9472e+00  2.4615e+00\n",
            " -7.6943e-01 -6.7356e+00  5.2001e+00  4.9861e+00  8.3302e+00 -1.7994e-01\n",
            " -4.5230e+00 -3.1477e+00  1.6333e+00  1.2706e+00 -1.3570e+00 -1.2657e+00\n",
            "  1.0856e+00 -5.2097e+00 -6.7072e+00  3.7113e+00 -2.0497e+00 -3.7039e+00\n",
            " -3.1425e+00  3.2752e+00  6.1626e-01 -2.1109e+00  3.4634e+00  1.4439e-01\n",
            "  7.9198e-01 -2.6030e-01 -4.8766e+00  4.8707e+00 -3.8386e+00 -6.7803e-01\n",
            " -2.6329e+00 -1.0455e+01 -3.5742e-01 -1.0371e+00  5.6633e-01  3.4941e+00\n",
            " -4.1645e+00 -2.8074e+00 -2.7678e+00  1.7166e+00  1.1077e+00 -2.7380e+00\n",
            "  2.0060e+00 -8.9958e-01  7.5857e-01  8.7656e-01  3.6327e+00 -6.0664e-01\n",
            "  4.7380e-01 -3.3598e+00  4.1596e+00 -6.7077e+00  5.0283e+00  2.8732e-01\n",
            " -4.1822e+00 -3.4453e+00  2.8582e+00 -6.0700e+00 -7.1533e+00  8.8060e-01]\n"
          ]
        }
      ]
    },
    {
      "cell_type": "code",
      "source": [
        "text1 = eng_mod('Dogs are my favorite animal.')\n",
        "text2 = eng_mod('I do not have a favorite breed of dog.')\n",
        "text3 = eng_mod('The carousel at the park was not working today')"
      ],
      "metadata": {
        "id": "oY4-Bfm_bzyr"
      },
      "execution_count": null,
      "outputs": []
    },
    {
      "cell_type": "code",
      "source": [
        "print(text1.similarity(text2))"
      ],
      "metadata": {
        "colab": {
          "base_uri": "https://localhost:8080/"
        },
        "id": "IDtYf_-0cnqS",
        "outputId": "54c0e9c5-d023-4c4e-f6d3-98998c55a7df"
      },
      "execution_count": null,
      "outputs": [
        {
          "output_type": "stream",
          "name": "stdout",
          "text": [
            "0.6827326516099954\n"
          ]
        }
      ]
    },
    {
      "cell_type": "markdown",
      "source": [
        "#word vectors for senses"
      ],
      "metadata": {
        "id": "bvWA1c72dbGV"
      }
    },
    {
      "cell_type": "code",
      "source": [
        "#words\n",
        "\n",
        "senses = ['sound','sight','touch','smell']\n"
      ],
      "metadata": {
        "id": "T9Q2GxMGcwhR"
      },
      "execution_count": null,
      "outputs": []
    },
    {
      "cell_type": "code",
      "source": [
        "sense_docs = []\n",
        "for sense in senses:\n",
        "  sense_docs.append(eng_mod(sense))\n",
        "\n",
        "def whichSense(word):\n",
        "  doc = eng_mod(word)\n",
        "  sense = {}\n",
        "  #chech simulartiyt to each sense and store in sense dictionary\n",
        "\n",
        "  for sense in senses:\n",
        "    senses[sense] = doc.similarity(sense)\n",
        "    #return dic\n",
        "  return senses"
      ],
      "metadata": {
        "id": "fEaEHtx1d0K1"
      },
      "execution_count": null,
      "outputs": []
    },
    {
      "cell_type": "code",
      "source": [
        "whichSense('symphony')"
      ],
      "metadata": {
        "colab": {
          "base_uri": "https://localhost:8080/",
          "height": 225
        },
        "id": "0jwH_7z6ecx6",
        "outputId": "6627bef1-72f8-407d-998e-204f2d8058f6"
      },
      "execution_count": null,
      "outputs": [
        {
          "output_type": "error",
          "ename": "AttributeError",
          "evalue": "ignored",
          "traceback": [
            "\u001b[0;31m---------------------------------------------------------------------------\u001b[0m",
            "\u001b[0;31mAttributeError\u001b[0m                            Traceback (most recent call last)",
            "\u001b[0;32m<ipython-input-44-e87f10e5980b>\u001b[0m in \u001b[0;36m<module>\u001b[0;34m\u001b[0m\n\u001b[0;32m----> 1\u001b[0;31m \u001b[0mwhichSense\u001b[0m\u001b[0;34m(\u001b[0m\u001b[0;34m'symphony'\u001b[0m\u001b[0;34m)\u001b[0m\u001b[0;34m\u001b[0m\u001b[0;34m\u001b[0m\u001b[0m\n\u001b[0m",
            "\u001b[0;32m<ipython-input-43-b0cae2b18c63>\u001b[0m in \u001b[0;36mwhichSense\u001b[0;34m(word)\u001b[0m\n\u001b[1;32m      9\u001b[0m \u001b[0;34m\u001b[0m\u001b[0m\n\u001b[1;32m     10\u001b[0m   \u001b[0;32mfor\u001b[0m \u001b[0msense\u001b[0m \u001b[0;32min\u001b[0m \u001b[0msenses\u001b[0m\u001b[0;34m:\u001b[0m\u001b[0;34m\u001b[0m\u001b[0;34m\u001b[0m\u001b[0m\n\u001b[0;32m---> 11\u001b[0;31m     \u001b[0msenses\u001b[0m\u001b[0;34m[\u001b[0m\u001b[0msense\u001b[0m\u001b[0;34m]\u001b[0m \u001b[0;34m=\u001b[0m \u001b[0mdoc\u001b[0m\u001b[0;34m.\u001b[0m\u001b[0msimilarity\u001b[0m\u001b[0;34m(\u001b[0m\u001b[0msense\u001b[0m\u001b[0;34m)\u001b[0m\u001b[0;34m\u001b[0m\u001b[0;34m\u001b[0m\u001b[0m\n\u001b[0m\u001b[1;32m     12\u001b[0m     \u001b[0;31m#return dic\u001b[0m\u001b[0;34m\u001b[0m\u001b[0;34m\u001b[0m\u001b[0;34m\u001b[0m\u001b[0m\n\u001b[1;32m     13\u001b[0m   \u001b[0;32mreturn\u001b[0m \u001b[0msenses\u001b[0m\u001b[0;34m\u001b[0m\u001b[0;34m\u001b[0m\u001b[0m\n",
            "\u001b[0;32m/usr/local/lib/python3.7/dist-packages/spacy/tokens/doc.pyx\u001b[0m in \u001b[0;36mspacy.tokens.doc.Doc.similarity\u001b[0;34m()\u001b[0m\n",
            "\u001b[0;31mAttributeError\u001b[0m: 'str' object has no attribute 'vector_norm'"
          ]
        }
      ]
    },
    {
      "cell_type": "code",
      "source": [],
      "metadata": {
        "id": "lmgLDUDrepB0"
      },
      "execution_count": null,
      "outputs": []
    }
  ]
}